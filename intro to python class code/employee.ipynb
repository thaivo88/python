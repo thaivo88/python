{
 "cells": [
  {
   "cell_type": "code",
   "execution_count": 3,
   "metadata": {},
   "outputs": [],
   "source": [
    "from person import Person\n",
    "import random"
   ]
  },
  {
   "cell_type": "code",
   "execution_count": null,
   "metadata": {},
   "outputs": [],
   "source": [
    "class Employee(Person):\n",
    "    \"\"\"Inheriting Person class to model a employee class\"\"\"\n",
    "\n",
    "    def __init__(self, fname, lname, birthyr, pw_ln, use_sp_char_pw, use_num_pw):\n",
    "        \"\"\"using attributes from user's input\"\"\"\n",
    "\n",
    "        super().__init__(fname, lname, birthyr)\n",
    "        self.pw_ln = pw_ln\n",
    "        self.use_sp_char_pw = use_sp_char_pw\n",
    "        self.use_num_pw = use_num_pw\n",
    "\n",
    "# a function to create and generate a random password\n",
    "    def gen_pw(self):                                                       \n",
    "\n",
    "        A_Z = \"AaBbCcDdEeFfGgHhIiJjKkLlMmNnOoPpQqRrSsTtUuVvWwXxYyZz\"         # creating a constain variable with upper and lower character of the alphabet\n",
    "        SP_CHAR = \"!@#$%^&*\"                                                 # creating a constain variable with special character\n",
    "        NUM = \"0123456789\"                                                   # creating a constain variable with number 0-9\n",
    "        passwd = \"\"                                                         # creating an empty variable for a holder for the loop\n",
    "        count = 0                                                           # starting counter at 0 for the lenght of the password the user input for the loop\n",
    "\n",
    "        while count < self.pw_ln:\n",
    "            random_num = random.randrange(0,52,1)               # calling/importing the random class to use range 0-52 in increments of 1\n",
    "            rand_pw_ch = A_Z[random_num]                        # geting a random number indexing from the line above to get a random character\n",
    "            passwd = passwd + rand_pw_ch                        # adding random character to password incurments\n",
    "            rand_pw_ch = \"\"                                     # clearing out the variable for the next loop\n",
    "            count = count + 1\n",
    "\n",
    "            if self.use_sp_char_pw and count < self.pw_ln:      # we want to use the self to diff from each user | if use input they want to use special character and the count loop is less than the password lenght the user input\n",
    "                random_num = random.randrange(0,8,1)            # get a random number in incurment of 1 with range of 8 b/c we have 8 special character\n",
    "                rand_sp_pw = SP_CHAR[random_num]\n",
    "                passwd = passwd + rand_sp_pw\n",
    "                rand_sp_pw = \"\"\n",
    "                count = count + 1\n",
    "\n",
    "            if self.use_num_pw and count < self.pw_ln:\n",
    "                random_num = random.randrange(0,10,1)\n",
    "                rand_num_pw = NUM[random_num]\n",
    "                passwd = passwd + rand_num_pw\n",
    "                rand_num_pw = \"\"\n",
    "                count = count + 1\n",
    "        \n",
    "        return passwd\n",
    "\n",
    "# EOF        "
   ]
  }
 ],
 "metadata": {
  "interpreter": {
   "hash": "74a614078dd4bdda3e91e4af239c34db718ee32d157ae7f6a966d8f229692864"
  },
  "kernelspec": {
   "display_name": "Python 3.9.7 64-bit ('base': conda)",
   "language": "python",
   "name": "python3"
  },
  "language_info": {
   "codemirror_mode": {
    "name": "ipython",
    "version": 3
   },
   "file_extension": ".py",
   "mimetype": "text/x-python",
   "name": "python",
   "nbconvert_exporter": "python",
   "pygments_lexer": "ipython3",
   "version": "3.9.7"
  },
  "orig_nbformat": 4
 },
 "nbformat": 4,
 "nbformat_minor": 2
}
